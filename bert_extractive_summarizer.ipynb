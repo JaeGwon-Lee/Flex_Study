{
  "nbformat": 4,
  "nbformat_minor": 0,
  "metadata": {
    "colab": {
      "name": "bert-extractive-summarizer.ipynb",
      "provenance": [],
      "authorship_tag": "ABX9TyODCerSnSIpP2Ldm1J4iSgs"
    },
    "kernelspec": {
      "name": "python3",
      "display_name": "Python 3"
    },
    "language_info": {
      "name": "python"
    },
    "accelerator": "GPU"
  },
  "cells": [
    {
      "cell_type": "markdown",
      "metadata": {
        "id": "HLz74d3rJdyh"
      },
      "source": [
        "Paper : https://arxiv.org/abs/1906.04165\n",
        "\n",
        "github : https://github.com/dmmiller612/bert-extractive-summarizer"
      ]
    },
    {
      "cell_type": "code",
      "metadata": {
        "colab": {
          "base_uri": "https://localhost:8080/"
        },
        "id": "Hko1H9-PFp9D",
        "outputId": "b44b35d8-069e-4ef4-e07a-58801b446be5"
      },
      "source": [
        "!pip install bert-extractive-summarizer"
      ],
      "execution_count": 1,
      "outputs": [
        {
          "output_type": "stream",
          "text": [
            "Requirement already satisfied: bert-extractive-summarizer in /usr/local/lib/python3.7/dist-packages (0.8.1)\n",
            "Requirement already satisfied: transformers in /usr/local/lib/python3.7/dist-packages (from bert-extractive-summarizer) (4.9.2)\n",
            "Requirement already satisfied: scikit-learn in /usr/local/lib/python3.7/dist-packages (from bert-extractive-summarizer) (0.22.2.post1)\n",
            "Requirement already satisfied: spacy in /usr/local/lib/python3.7/dist-packages (from bert-extractive-summarizer) (2.2.4)\n",
            "Requirement already satisfied: numpy>=1.11.0 in /usr/local/lib/python3.7/dist-packages (from scikit-learn->bert-extractive-summarizer) (1.19.5)\n",
            "Requirement already satisfied: scipy>=0.17.0 in /usr/local/lib/python3.7/dist-packages (from scikit-learn->bert-extractive-summarizer) (1.4.1)\n",
            "Requirement already satisfied: joblib>=0.11 in /usr/local/lib/python3.7/dist-packages (from scikit-learn->bert-extractive-summarizer) (1.0.1)\n",
            "Requirement already satisfied: tqdm<5.0.0,>=4.38.0 in /usr/local/lib/python3.7/dist-packages (from spacy->bert-extractive-summarizer) (4.62.0)\n",
            "Requirement already satisfied: cymem<2.1.0,>=2.0.2 in /usr/local/lib/python3.7/dist-packages (from spacy->bert-extractive-summarizer) (2.0.5)\n",
            "Requirement already satisfied: thinc==7.4.0 in /usr/local/lib/python3.7/dist-packages (from spacy->bert-extractive-summarizer) (7.4.0)\n",
            "Requirement already satisfied: wasabi<1.1.0,>=0.4.0 in /usr/local/lib/python3.7/dist-packages (from spacy->bert-extractive-summarizer) (0.8.2)\n",
            "Requirement already satisfied: catalogue<1.1.0,>=0.0.7 in /usr/local/lib/python3.7/dist-packages (from spacy->bert-extractive-summarizer) (1.0.0)\n",
            "Requirement already satisfied: blis<0.5.0,>=0.4.0 in /usr/local/lib/python3.7/dist-packages (from spacy->bert-extractive-summarizer) (0.4.1)\n",
            "Requirement already satisfied: setuptools in /usr/local/lib/python3.7/dist-packages (from spacy->bert-extractive-summarizer) (57.4.0)\n",
            "Requirement already satisfied: murmurhash<1.1.0,>=0.28.0 in /usr/local/lib/python3.7/dist-packages (from spacy->bert-extractive-summarizer) (1.0.5)\n",
            "Requirement already satisfied: srsly<1.1.0,>=1.0.2 in /usr/local/lib/python3.7/dist-packages (from spacy->bert-extractive-summarizer) (1.0.5)\n",
            "Requirement already satisfied: preshed<3.1.0,>=3.0.2 in /usr/local/lib/python3.7/dist-packages (from spacy->bert-extractive-summarizer) (3.0.5)\n",
            "Requirement already satisfied: requests<3.0.0,>=2.13.0 in /usr/local/lib/python3.7/dist-packages (from spacy->bert-extractive-summarizer) (2.23.0)\n",
            "Requirement already satisfied: plac<1.2.0,>=0.9.6 in /usr/local/lib/python3.7/dist-packages (from spacy->bert-extractive-summarizer) (1.1.3)\n",
            "Requirement already satisfied: importlib-metadata>=0.20 in /usr/local/lib/python3.7/dist-packages (from catalogue<1.1.0,>=0.0.7->spacy->bert-extractive-summarizer) (4.6.3)\n",
            "Requirement already satisfied: zipp>=0.5 in /usr/local/lib/python3.7/dist-packages (from importlib-metadata>=0.20->catalogue<1.1.0,>=0.0.7->spacy->bert-extractive-summarizer) (3.5.0)\n",
            "Requirement already satisfied: typing-extensions>=3.6.4 in /usr/local/lib/python3.7/dist-packages (from importlib-metadata>=0.20->catalogue<1.1.0,>=0.0.7->spacy->bert-extractive-summarizer) (3.7.4.3)\n",
            "Requirement already satisfied: certifi>=2017.4.17 in /usr/local/lib/python3.7/dist-packages (from requests<3.0.0,>=2.13.0->spacy->bert-extractive-summarizer) (2021.5.30)\n",
            "Requirement already satisfied: idna<3,>=2.5 in /usr/local/lib/python3.7/dist-packages (from requests<3.0.0,>=2.13.0->spacy->bert-extractive-summarizer) (2.10)\n",
            "Requirement already satisfied: chardet<4,>=3.0.2 in /usr/local/lib/python3.7/dist-packages (from requests<3.0.0,>=2.13.0->spacy->bert-extractive-summarizer) (3.0.4)\n",
            "Requirement already satisfied: urllib3!=1.25.0,!=1.25.1,<1.26,>=1.21.1 in /usr/local/lib/python3.7/dist-packages (from requests<3.0.0,>=2.13.0->spacy->bert-extractive-summarizer) (1.24.3)\n",
            "Requirement already satisfied: filelock in /usr/local/lib/python3.7/dist-packages (from transformers->bert-extractive-summarizer) (3.0.12)\n",
            "Requirement already satisfied: huggingface-hub==0.0.12 in /usr/local/lib/python3.7/dist-packages (from transformers->bert-extractive-summarizer) (0.0.12)\n",
            "Requirement already satisfied: regex!=2019.12.17 in /usr/local/lib/python3.7/dist-packages (from transformers->bert-extractive-summarizer) (2019.12.20)\n",
            "Requirement already satisfied: pyyaml>=5.1 in /usr/local/lib/python3.7/dist-packages (from transformers->bert-extractive-summarizer) (5.4.1)\n",
            "Requirement already satisfied: packaging in /usr/local/lib/python3.7/dist-packages (from transformers->bert-extractive-summarizer) (21.0)\n",
            "Requirement already satisfied: sacremoses in /usr/local/lib/python3.7/dist-packages (from transformers->bert-extractive-summarizer) (0.0.45)\n",
            "Requirement already satisfied: tokenizers<0.11,>=0.10.1 in /usr/local/lib/python3.7/dist-packages (from transformers->bert-extractive-summarizer) (0.10.3)\n",
            "Requirement already satisfied: pyparsing>=2.0.2 in /usr/local/lib/python3.7/dist-packages (from packaging->transformers->bert-extractive-summarizer) (2.4.7)\n",
            "Requirement already satisfied: six in /usr/local/lib/python3.7/dist-packages (from sacremoses->transformers->bert-extractive-summarizer) (1.15.0)\n",
            "Requirement already satisfied: click in /usr/local/lib/python3.7/dist-packages (from sacremoses->transformers->bert-extractive-summarizer) (7.1.2)\n"
          ],
          "name": "stdout"
        }
      ]
    },
    {
      "cell_type": "code",
      "metadata": {
        "colab": {
          "base_uri": "https://localhost:8080/"
        },
        "id": "sLAjJMvNTfX0",
        "outputId": "11a2be4b-6a20-42bc-d066-3b5df34730f2"
      },
      "source": [
        "from summarizer import Summarizer\n",
        "\n",
        "model = Summarizer()"
      ],
      "execution_count": 2,
      "outputs": [
        {
          "output_type": "stream",
          "text": [
            "Some weights of the model checkpoint at bert-large-uncased were not used when initializing BertModel: ['cls.predictions.transform.LayerNorm.bias', 'cls.predictions.transform.dense.bias', 'cls.seq_relationship.bias', 'cls.predictions.decoder.weight', 'cls.predictions.bias', 'cls.seq_relationship.weight', 'cls.predictions.transform.LayerNorm.weight', 'cls.predictions.transform.dense.weight']\n",
            "- This IS expected if you are initializing BertModel from the checkpoint of a model trained on another task or with another architecture (e.g. initializing a BertForSequenceClassification model from a BertForPreTraining model).\n",
            "- This IS NOT expected if you are initializing BertModel from the checkpoint of a model that you expect to be exactly identical (initializing a BertForSequenceClassification model from a BertForSequenceClassification model).\n"
          ],
          "name": "stderr"
        }
      ]
    },
    {
      "cell_type": "code",
      "metadata": {
        "colab": {
          "base_uri": "https://localhost:8080/"
        },
        "id": "CJXxhXMCHNrX",
        "outputId": "1fc079e5-5e68-4d5b-baad-98dddfa03130"
      },
      "source": [
        "body = '''\n",
        "The Chrysler Building, the famous art deco New York skyscraper, will be sold for a small fraction of its previous sales price.\n",
        "The deal, first reported by The Real Deal, was for $150 million, according to a source familiar with the deal.\n",
        "Mubadala, an Abu Dhabi investment fund, purchased 90% of the building for $800 million in 2008.\n",
        "Real estate firm Tishman Speyer had owned the other 10%.\n",
        "The buyer is RFR Holding, a New York real estate company.\n",
        "Officials with Tishman and RFR did not immediately respond to a request for comments.\n",
        "It's unclear when the deal will close.\n",
        "The building sold fairly quickly after being publicly placed on the market only two months ago.\n",
        "The sale was handled by CBRE Group.\n",
        "The incentive to sell the building at such a huge loss was due to the soaring rent the owners pay to Cooper Union, a New York college, for the land under the building.\n",
        "The rent is rising from $7.75 million last year to $32.5 million this year to $41 million in 2028.\n",
        "Meantime, rents in the building itself are not rising nearly that fast.\n",
        "While the building is an iconic landmark in the New York skyline, it is competing against newer office towers with large floor-to-ceiling windows and all the modern amenities.\n",
        "Still the building is among the best known in the city, even to people who have never been to New York.\n",
        "It is famous for its triangle-shaped, vaulted windows worked into the stylized crown, along with its distinctive eagle gargoyles near the top.\n",
        "It has been featured prominently in many films, including Men in Black 3, Spider-Man, Armageddon, Two Weeks Notice and Independence Day.\n",
        "The previous sale took place just before the 2008 financial meltdown led to a plunge in real estate prices.\n",
        "Still there have been a number of high profile skyscrapers purchased for top dollar in recent years, including the Waldorf Astoria hotel, which Chinese firm Anbang Insurance purchased in 2016 for nearly $2 billion, and the Willis Tower in Chicago, which was formerly known as Sears Tower, once the world's tallest.\n",
        "Blackstone Group (BX) bought it for $1.3 billion 2015.\n",
        "The Chrysler Building was the headquarters of the American automaker until 1953, but it was named for and owned by Chrysler chief Walter Chrysler, not the company itself.\n",
        "Walter Chrysler had set out to build the tallest building in the world, a competition at that time with another Manhattan skyscraper under construction at 40 Wall Street at the south end of Manhattan. He kept secret the plans for the spire that would grace the top of the building, building it inside the structure and out of view of the public until 40 Wall Street was complete.\n",
        "Once the competitor could rise no higher, the spire of the Chrysler building was raised into view, giving it the title.\n",
        "'''\n",
        "\n",
        "result = model(body, min_length=60)\n",
        "full = ''.join(result)\n",
        "print(full)"
      ],
      "execution_count": 3,
      "outputs": [
        {
          "output_type": "stream",
          "text": [
            "The Chrysler Building, the famous art deco New York skyscraper, will be sold for a small fraction of its previous sales price. The deal, first reported by The Real Deal, was for $150 million, according to a source familiar with the deal. The building sold fairly quickly after being publicly placed on the market only two months ago. The incentive to sell the building at such a huge loss was due to the soaring rent the owners pay to Cooper Union, a New York college, for the land under the building.\n"
          ],
          "name": "stdout"
        }
      ]
    },
    {
      "cell_type": "markdown",
      "metadata": {
        "id": "YK3NEZvVT7Vt"
      },
      "source": [
        "Closing ceremony wraps Tokyo 2020 after Team USA tops medal table  \n",
        "https://edition.cnn.com/2021/08/08/sport/olympics-usa-most-medals/index.html"
      ]
    },
    {
      "cell_type": "code",
      "metadata": {
        "colab": {
          "base_uri": "https://localhost:8080/"
        },
        "id": "NFm6YxpGJ8Q4",
        "outputId": "b1493607-8fdf-4362-a89d-d2617195d9f2"
      },
      "source": [
        "body = '''\n",
        "The final medals are being awarded in the closing ceremony of the Tokyo Olympics, wrapping two weeks of competition overshadowed by Covid-19.\n",
        "Team USA won more gold medals -- and more medals overall -- than any other country in the Games.\n",
        "A total of 626 athletes competed for the USA at the Tokyo 2020 games, clinching 39 gold, 41 silver and 33 bronze medals for a grand total of 113 medals in 28 different sports.\n",
        "Overall, 257 members of Team USA won a medal, including 164 women and 93 men.\n",
        "China and Japan, the host-country, were closest to matching the American gold-medal haul, winning 38 and 27 medals, respectively.\n",
        "The battle for most gold medals came down to the final day of competition, as Team USA's wins in women's volleyball and women's basketball pushed the country to the top of the chart.\n",
        "In the total medal count, China finished in second with 88 medals, followed by the Russian Olympic Committee with 71 medals.\n",
        "Team USA has now won the most medals at the Summer Olympics for seven consecutive Games, dating back to 1996.\n",
        "Swimmer Caeleb Dressel won five gold medals, making him the winningest athlete of any nation at these Games.\n",
        "\"We kept our team safe and we're coming home successful,\" said Sarah Hirshland, CEO of the United States Olympic & Paralympic Committee.\n",
        "\"The Tokyo 2020 Games have been remarkable in so many ways and I'm filled with gratitude and pride.\"\n",
        "\"The athletes of Team USA honored themselves, their communities, their families, and all of us with their excellent performances in Tokyo,\" said Rick Adams, USOPC chief of sport performance and Team USA chef de mission.\n",
        "A record 94 nations won medals at the Tokyo 2020 games, including Turkmenistan, San Marino and Burkina Faso -- all of which claimed their first Olympic medals ever.\n",
        "Japan, Italy, Netherlands, Brazil, New Zealand, Chinese Taipei and Turkey also set new records for most medals secured at a single Olympic Games.\n",
        "'''\n",
        "\n",
        "result = model(body, min_length=60)\n",
        "full = ''.join(result)\n",
        "print(full)"
      ],
      "execution_count": 4,
      "outputs": [
        {
          "output_type": "stream",
          "text": [
            "The final medals are being awarded in the closing ceremony of the Tokyo Olympics, wrapping two weeks of competition overshadowed by Covid-19. Team USA won more gold medals -- and more medals overall -- than any other country in the Games. A total of 626 athletes competed for the USA at the Tokyo 2020 games, clinching 39 gold, 41 silver and 33 bronze medals for a grand total of 113 medals in 28 different sports.\n"
          ],
          "name": "stdout"
        }
      ]
    },
    {
      "cell_type": "markdown",
      "metadata": {
        "id": "zD_WPj_-NTsY"
      },
      "source": [
        "BTS 손잡은 네이버웹툰, 1등 플랫폼 굳히기  \n",
        "https://news.naver.com/main/read.naver?mode=LSD&mid=shm&sid1=105&oid=029&aid=0002692675"
      ]
    },
    {
      "cell_type": "code",
      "metadata": {
        "colab": {
          "base_uri": "https://localhost:8080/"
        },
        "id": "k9ixCgS6J7s8",
        "outputId": "a1ea15ff-820e-429b-bcac-0b51379c3576"
      },
      "source": [
        "body = '''\n",
        "네이버웹툰이 아이돌 그룹 방탄소년단(BTS)과 인기 만화 주인공 베트맨, 슈퍼맨 등을 각각 활용해 오리지널 웹툰·웹소설을 제작하는 '슈퍼캐스팅' 프로젝트를 가동한다.\n",
        "슈퍼 IP(지식재산권) 기업과의 협력으로 스토리텔링 콘텐츠 생태계를 확대해 '초격차'에 고삐를 죄겠다는 목표다.\n",
        "김준구 네이버웹툰 대표는 18일 온라인으로 진행한 밋업 행사에서 \"그간 네이버웹툰은 웹오리지널 스토리텔링 생태계의 핵심 요소인 플랫폼, 비즈니스 모델, IP 벨류체인을 글로벌 규모로 확립해 왔다\"며 \"이 과정에서 공고한 1위 사업자로서의 지위를 확보했고 다른 분야 1위 사업자와의 다양한 프로젝트를 계획하고 있다\"고 말했다.\n",
        "네이버웹툰이 이날 공개한 슈퍼캐스팅 프로젝트는 글로벌 팬덤을 갖고 있는 엔터테인먼트 기업과의 협업을 통해 슈퍼IP를 웹툰이나 웹소설 오리지널 콘텐츠로 제작하는 것이 핵심이다.\n",
        "네이버가 네이버웹툰이 발표한 첫 번째 협업 파트너는 바로 BTS의 소속사 '하이브'와 배트맨, 슈퍼맨, 원더우먼 등의 유명 IP(지식재산권)를 보유한 미국 만화출판사 'DC코믹스'다.\n",
        "김 대표는 \"올해 하이브, DC코믹스와 각각 협업·제작한 콘텐츠들을 만날 수 있을 것\"이라며 \"1등 플랫폼만이 슈퍼 IP를 캐스팅할 수 있는 만큼 다양한 슈퍼캐스팅을 준비하고 있다\"고 밝혔다.\n",
        "특히 DC코믹스와는 그간 한 번도 발표되지 않은 콘텐츠를 처음으로 선보일 예정이다.\n",
        "네이버웹툰은 지난 5월 세계 최대 웹소설 플랫폼 왓패드를 인수하며 글로벌 스토리테크 플랫폼으로 거듭났다.\n",
        "현재 네이버웹툰이 보유한 창작자는 600만명, 월간 사용자는 1억6700만명에 달한다. 수익도 막대하다.\n",
        "네이버웹툰은 이날 PPS(페이지 이익 공유·Page Profit Share) 프로그램을 통한 창작자 수익 규모를 공개했다.\n",
        "지난 2013년 도입한 PPS는 유료보기-광고-IP 비즈니스로 이어지는 웹툰 창작자 수익 모델이다.\n",
        "지난 1년 간 네이버웹툰에서 연재한 작가의 평균 수익은 2억8000만원으로 집계됐다.\n",
        "이 중에는 연간 최대 124억원의 수익을 올린 개인 작가도 있었다.\n",
        "PS 프로그램 전체 규모는 지난 12개월 간 약 1조700억원에 달했다.\n",
        "김 대표는 \"빠른 시간 안에 1조원이라는 규모를 돌파한 것은 굉장한 의미가 있다\"면서 \"웹소설·웹툰·영상화로 이어지는 IP 밸류체인을 통해 PPS 프로그램의 기대 수익은 앞으로 더욱 늘어날 것\"이라고 밝혔다.\n",
        "네이버웹툰은 향후에도 글로벌 스토리테크 플랫폼으로서 소설, 웹툰, 영상의 특성에 기반한 글로벌 콘텐츠IP 밸류체인 선순환 효과를 앞세워 지속적인 성장을 도모한다는 계획이다.\n",
        "다수 제작사와의 공동 제작을 통한 웹소설·웹툰 영상화, 메타버스 플랫폼 제페토와 웹툰 IP의 만남, 새로운 비즈니스 모델 등도 고려하고 있다.\n",
        "김 대표는 카카오웹툰과의 경쟁관계에 대해서는 \"카카오와의 경쟁이 치열해지고 있다고 생각하지 않는다\"며 \"후발주자와의 경쟁 상황을 고려하기 보다, 어떻게 하면 이 산업과 비즈니스를 키울 수 있을지 고민하고 있다\"고 밝혔다.\n",
        "이어 김 대표는 \"마케팅 등을 통해 일시적으로 사용자 규모나 매출을 끌어올릴 수는 있지만 매일 우리 콘텐츠를 사랑하고 결제하는 사용자들은 단시간 내 얻을 수 없기에 1등 플랫폼으로서 확고한 자신감이 있다\"며 \"앞으로 스토리텔링 콘텐츠가 글로벌 엔터테인먼트 산업의 핵심 요소로 떠오를 수 있도록 계속해서 새로운 시도를 이어 나가겠다\"고 덧붙였다.\n",
        "'''\n",
        "\n",
        "result = model(body, min_length=60)\n",
        "full = ''.join(result)\n",
        "print(full)"
      ],
      "execution_count": 5,
      "outputs": [
        {
          "output_type": "stream",
          "text": [
            "네이버웹툰이 아이돌 그룹 방탄소년단(BTS)과 인기 만화 주인공 베트맨, 슈퍼맨 등을 각각 활용해 오리지널 웹툰·웹소설을 제작하는 '슈퍼캐스팅' 프로젝트를 가동한다. 슈퍼 IP(지식재산권) 기업과의 협력으로 스토리텔링 콘텐츠 생태계를 확대해 '초격차'에 고삐를 죄겠다는 목표다. 김 대표는 \"빠른 시간 안에 1조원이라는 규모를 돌파한 것은 굉장한 의미가 있다\"면서 \"웹소설·웹툰·영상화로 이어지는 IP 밸류체인을 통해 PPS 프로그램의 기대 수익은 앞으로 더욱 늘어날 것\"이라고 밝혔다.\n"
          ],
          "name": "stdout"
        }
      ]
    },
    {
      "cell_type": "markdown",
      "metadata": {
        "id": "RFk8r4XvSuvk"
      },
      "source": [
        "코로나19 확산속 전국 초·중·고교 오늘부터 본격 개학  \n",
        "https://www.yna.co.kr/view/AKR20210817018600530?input=1195m"
      ]
    },
    {
      "cell_type": "code",
      "metadata": {
        "colab": {
          "base_uri": "https://localhost:8080/"
        },
        "id": "fiGMbcVhMs0y",
        "outputId": "591f73b1-3f19-43a7-c2d0-746e923b29cf"
      },
      "source": [
        "body = '''\n",
        "국내 신종 코로나바이러스 감염증(코로나19) 하루 확진자가 40일 넘게 1천명을 크게 웃도는 4차 대유행이 진행 중인 가운데 전국 중·고등학교 상당수가 17일부터 개학한다.\n",
        "초등학교는 한 주 뒤인 23일부터 개학하는 곳이 많다.\n",
        "교육계에 따르면 교육부의 2학기 등교 확대 방침에 따라 이날 개학과 동시에 '사회적 거리두기' 4단계에서도 전면 원격수업 대신 등교수업이 이뤄진다.\n",
        "2학기 개학부터 9월 3일까지 거리두기 4단계인 수도권의 중학교는 3분의 1 등교, 고등학교는 고1·2가 2분의 1 등교한다.\n",
        "코로나19 백신을 접종한 고3은 학교 밀집도 조치의 예외를 적용해 고교에서는 2개 학년이 등교할 수 있다.\n",
        "수도권 초등학교는 1·2학년이 등교하고 3∼6학년은 원격수업을 받는다.\n",
        "3단계인 비수도권 지역에서는 중학교는 3분의 2가 등교하며 고등학교는 고1·2가 2분의 1 등교하거나 전면 등교할 수 있다.\n",
        "고3은 학교 밀집도 조치의 예외로 인정됨에 따라 3단계에서는 고등학교는 전 학년이 등교할 수 있다.\n",
        "초등학교는 1·2학년의 경우 밀집도에서 제외해 매일 등교한다.\n",
        "초 3∼6학년은 4분의 3이 등교한다.\n",
        "교육부의 이 같은 2학기 학사 운영 범위 내에서 시도교육청과 학교는 등교와 원격수업을 조정할 수 있다.\n",
        "교육부는 애초 4단계에서는 원격수업으로 전환하기로 했으나 교육 결손을 막고 학교가 코로나19에서 상대적으로 안전하다는 판단에 따라 2학기 등교를 확대하기로 했다.\n",
        "교육부가 2학기 개학부터 9월 3일까지는 부분 등교하고 9월 6일부터 전면등교를 추진하기로 했으나 지역 상황에 따라 개학과 동시에 즉시 전면 등교를 하는 곳도 있다.\n",
        "거리두기 2∼3단계가 적용 중인 전남과 전북, 충남, 강원교육청은 교육부 계획보다 등교 수업을 더 확대해 개학 시점부터 곧바로 1∼3단계에서 전면 등교한다.\n",
        "전북교육청 관계자는 \"교육부가 시·도 교육청에 준 재량권 범위 안에서 최대한 많은 학생이 등교하도록 방향을 잡았다\"며 \"학생들의 학습권을 보호하고 학습 격차를 해소하기 위한 조처\"라고 말했다.\n",
        "방역 등 준비기간을 거쳐 9월 6일부터는 거리두기 1∼3단계에 해당하는 지역의 모든 유치원과 초·중·고등학교가 전면 등교하게 된다.\n",
        "또 거리두기 4단계인 지역에서도 학교급별 3분의 2까지 등교를 허용하는 등 2학기 대면 수업이 확대된다.\n",
        "2학기 개학을 앞두고 하루 평균 100명 이상의 학생이 확진 판정을 받는 등 코로나19 확산세가 심상치 않지만, 교육부는 일부 학부모들이 요구하는 등교 선택권은 주지 않기로 했다.\n",
        "교육부는 등교와 원격수업을 선택할 수 있는 등교 선택권 대신 코로나19로 등교 수업이 불안한 학생과 학부모들이 가정에서 학습해도 출석으로 인정받을 수 있는 가정학습을 확대한다.\n",
        "교육부는 가정학습 일수를 현재 40일 안팎에서 57일 안팎으로 30%가량 확대 운영하도록 시도교육청에 권장했다.\n",
        "'''\n",
        "\n",
        "result = model(body, min_length=60)\n",
        "full = ''.join(result)\n",
        "print(full)"
      ],
      "execution_count": 6,
      "outputs": [
        {
          "output_type": "stream",
          "text": [
            "국내 신종 코로나바이러스 감염증(코로나19) 하루 확진자가 40일 넘게 1천명을 크게 웃도는 4차 대유행이 진행 중인 가운데 전국 중·고등학교 상당수가 17일부터 개학한다. 2학기 개학부터 9월 3일까지 거리두기 4단계인 수도권의 중학교는 3분의 1 등교, 고등학교는 고1·2가 2분의 1 등교한다. 교육부가 2학기 개학부터 9월 3일까지는 부분 등교하고 9월 6일부터 전면등교를 추진하기로 했으나 지역 상황에 따라 개학과 동시에 즉시 전면 등교를 하는 곳도 있다.\n"
          ],
          "name": "stdout"
        }
      ]
    }
  ]
}